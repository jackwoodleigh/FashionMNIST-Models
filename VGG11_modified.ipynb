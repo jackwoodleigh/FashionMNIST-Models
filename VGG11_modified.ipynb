{
 "cells": [
  {
   "cell_type": "code",
   "execution_count": 1,
   "metadata": {
    "id": "QoRvXR4Jshpf"
   },
   "outputs": [],
   "source": [
    "import torch\n",
    "import torchvision\n",
    "import torchvision.transforms as transforms\n",
    "import torch.nn as nn\n",
    "from tqdm.notebook import tqdm\n",
    "from torch.cuda.amp import autocast, GradScaler"
   ]
  },
  {
   "cell_type": "code",
   "execution_count": null,
   "metadata": {
    "id": "NXEfM-C0V5wP"
   },
   "outputs": [],
   "source": []
  },
  {
   "cell_type": "code",
   "execution_count": 2,
   "metadata": {
    "id": "vrL6NFtUskXy"
   },
   "outputs": [],
   "source": [
    "transform = transforms.Compose([transforms.Resize((224, 224)), transforms.ToTensor(), transforms.Normalize((0.5), (0.5))])\n",
    "training_set = torchvision.datasets.FashionMNIST('./data', train=True, transform=transform, download=True)\n",
    "testing_set = torchvision.datasets.FashionMNIST('./data', train=False, transform=transform, download=True)\n",
    "training_set, validation_set = torch.utils.data.random_split(training_set, [55000, 5000])\n",
    "#training_set, validation_set = torch.utils.data.random_split(training_set, [540000,60000])"
   ]
  },
  {
   "cell_type": "code",
   "execution_count": 3,
   "metadata": {
    "colab": {
     "base_uri": "https://localhost:8080/"
    },
    "id": "AqSEeVccx0aB",
    "outputId": "7e0783d2-894b-4434-c4c1-ee0a5ea9436b"
   },
   "outputs": [],
   "source": [
    "training_loader = torch.utils.data.DataLoader(training_set, batch_size=128, shuffle=True, num_workers=4,  pin_memory=True)\n",
    "validation_loader = torch.utils.data.DataLoader(validation_set, batch_size=128, shuffle=True, num_workers=4, pin_memory=True)\n",
    "testing_loader = torch.utils.data.DataLoader(testing_set, batch_size=128, shuffle=True, num_workers=4, pin_memory=True)"
   ]
  },
  {
   "cell_type": "code",
   "execution_count": null,
   "metadata": {},
   "outputs": [],
   "source": []
  },
  {
   "cell_type": "code",
   "execution_count": 4,
   "metadata": {
    "id": "H7keOucds0h6"
   },
   "outputs": [],
   "source": [
    "class VGG11(nn.Module):\n",
    "\n",
    "  def __init__(self):\n",
    "    super(VGG11, self).__init__()\n",
    "    self.layers = nn.Sequential(\n",
    "\n",
    "        nn.Conv2d(1, 64, kernel_size=3, padding=1),\n",
    "        nn.BatchNorm2d(64),\n",
    "        nn.ReLU(),\n",
    "        #nn.Dropout(0.5),\n",
    "\n",
    "        nn.MaxPool2d(2, 2),\n",
    "\n",
    "        nn.Conv2d(64, 128, kernel_size=3, padding=1),\n",
    "        nn.BatchNorm2d(128),\n",
    "        nn.ReLU(),\n",
    "        #nn.Dropout(0.5),\n",
    "\n",
    "        nn.MaxPool2d(2, 2),\n",
    "\n",
    "        nn.Conv2d(128, 256, kernel_size=3, padding=1),\n",
    "        nn.BatchNorm2d(256),\n",
    "        nn.ReLU(),\n",
    "        nn.Conv2d(256, 256, kernel_size=3, padding=1),\n",
    "        nn.BatchNorm2d(256),\n",
    "        nn.ReLU(),\n",
    "        #nn.Dropout(0.5),\n",
    "\n",
    "        nn.MaxPool2d(2, 2),\n",
    "\n",
    "        nn.Conv2d(256, 512, kernel_size=3, padding=1),\n",
    "        nn.BatchNorm2d(512),\n",
    "        nn.ReLU(),\n",
    "        nn.Conv2d(512, 512, kernel_size=3, padding=1),\n",
    "        nn.BatchNorm2d(512),\n",
    "        nn.ReLU(),\n",
    "        #nn.Dropout(0.5),\n",
    "\n",
    "        nn.MaxPool2d(2, 2),\n",
    "\n",
    "        nn.Conv2d(512, 512, kernel_size=3, padding=1),\n",
    "        nn.BatchNorm2d(512),\n",
    "        nn.ReLU(),\n",
    "        nn.Conv2d(512, 512, kernel_size=3, padding=1),\n",
    "        nn.BatchNorm2d(512),\n",
    "        nn.ReLU(),\n",
    "        #nn.Dropout(0.5),\n",
    "\n",
    "        nn.MaxPool2d(2, 2),\n",
    "        nn.Flatten(),\n",
    "\n",
    "\n",
    "        # Classifier\n",
    "        nn.Linear(512*7*7, 4096),\n",
    "        nn.BatchNorm1d(4096),\n",
    "        nn.ReLU(),\n",
    "        nn.Dropout(0.5),\n",
    "\n",
    "        nn.Linear(4096, 4096),\n",
    "        nn.BatchNorm1d(4096),\n",
    "        nn.ReLU(),\n",
    "        nn.Dropout(0.5),\n",
    "\n",
    "        nn.Linear(4096, 10)\n",
    "\n",
    "    )\n",
    "\n",
    "\n",
    "    self.loss = nn.CrossEntropyLoss()\n",
    "    self.optimizer = torch.optim.Adam(self.parameters(), lr=0.0005)\n",
    "    self.scheduler = None\n",
    "\n",
    "  def forward(self, x):\n",
    "    return self.layers(x)\n",
    "\n",
    "  def train_model(self, training_loader, validation_loader, epoch):\n",
    "    self.scheduler = torch.optim.lr_scheduler.OneCycleLR(self.optimizer, max_lr=0.001, steps_per_epoch=len(training_loader), epochs=epoch)\n",
    "    scaler = GradScaler()\n",
    "\n",
    "    self.to('cuda')\n",
    "\n",
    "\n",
    "    training_loss = []\n",
    "    training_accuracy = []\n",
    "    validation_loss = []\n",
    "    validation_accuracy = []\n",
    "\n",
    "    for i in range(epoch):\n",
    "        true = 0\n",
    "        total = 0\n",
    "        running_loss = 0\n",
    "        for images, labels in tqdm(training_loader, desc=f\"Training Epoch {i}\"):\n",
    "            self.train()\n",
    "            images = images.to('cuda')\n",
    "            labels = labels.to('cuda')\n",
    "\n",
    "            # model training\n",
    "            self.optimizer.zero_grad()\n",
    "            with autocast():\n",
    "              pred = self.forward(images)\n",
    "              loss = self.loss(pred, labels)\n",
    "            scaler.scale(loss).backward()\n",
    "            scaler.step(self.optimizer)\n",
    "            scaler.update()\n",
    "            self.scheduler.step()\n",
    "\n",
    "            # preformance eval\n",
    "            running_loss += loss\n",
    "            pred_actual = torch.argmax(pred, dim=-1)\n",
    "            true += (pred_actual == labels).sum().item()\n",
    "            total += labels.size(0)\n",
    "\n",
    "        # training set eval\n",
    "        training_loss.append(running_loss/len(training_loader))\n",
    "        training_accuracy.append(true / total *100)\n",
    "\n",
    "        # validation set eval\n",
    "        val_loss, val_accuracy = self.test_model(validation_loader, f\"Validating Epoch {i}\")\n",
    "        validation_loss.append(val_loss)\n",
    "        validation_accuracy.append(val_accuracy)\n",
    "\n",
    "        print(f\"Training Loss: {training_loss[-1]}, Training Accuracy: {training_accuracy[-1]}, Validation Loss: {validation_loss[-1]}, Validation Accuracy: {validation_accuracy[-1]}\")\n",
    "        model.save_model(\"vgg11_mnist.pth\")\n",
    "\n",
    "    #return training_loss, training_accuracy, validation_loss, validation_accuracy\n",
    "\n",
    "\n",
    "  def test_model(self, testing_loader, desc):\n",
    "      self.eval()\n",
    "      self.to('cuda')\n",
    "      true = 0\n",
    "      total= 0\n",
    "      loss = 0\n",
    "      with torch.no_grad():\n",
    "        for images, labels in tqdm(testing_loader, desc = desc):\n",
    "            images = images.to('cuda')\n",
    "            labels = labels.to('cuda')\n",
    "            pred = self.forward(images)\n",
    "            pred_actual = torch.argmax(pred, dim=-1)\n",
    "            loss += self.loss(pred, labels)\n",
    "            true += (pred_actual == labels).sum().item()\n",
    "            total += labels.size(0)\n",
    "        accuracy = true / total * 100\n",
    "        return loss/len(testing_loader), accuracy\n",
    "\n",
    "\n",
    "  def save_model(self, path):\n",
    "      torch.save(self.state_dict(), path)\n",
    "      print(f\"Model parameters saved to {path}\")\n",
    "\n",
    "  def load_model(self, path):\n",
    "      self.load_state_dict(torch.load(path))\n",
    "      self.to('cuda')\n",
    "      print(f\"Model parameters loaded from {path}\")\n",
    "\n"
   ]
  },
  {
   "cell_type": "code",
   "execution_count": 5,
   "metadata": {
    "colab": {
     "base_uri": "https://localhost:8080/",
     "height": 67,
     "referenced_widgets": [
      "17bdaf3ee35c4a0bb66b5ea970527ec8",
      "86bd1e632e924d398d20c615e23e79ee",
      "9d0aaea084a34201b23e1cd164a3922f",
      "883ce754e62d4b769ebf8bd26b8b0a62",
      "3dcc481ca01f4753b080a9332a6a1c15",
      "b2de5fb29f034db5ae2dd94ef7890aa9",
      "0638192a2660490aa5f0c386cf9f2a44",
      "85668ebb70794da68cb1a1617f1179da",
      "bc156c7958554442980964251449665f",
      "a80900c51652447597677f7e4f4306de",
      "1129c074a7bd47579d3875bedcb41970"
     ]
    },
    "id": "pPnXfy-WuNbY",
    "outputId": "18e10c21-64f7-4092-c073-a3dd0e0a89fa"
   },
   "outputs": [
    {
     "name": "stdout",
     "output_type": "stream",
     "text": [
      "CUDA Available: True\n"
     ]
    },
    {
     "data": {
      "application/vnd.jupyter.widget-view+json": {
       "model_id": "8a6914381202483a8dbed42d5cc7d02e",
       "version_major": 2,
       "version_minor": 0
      },
      "text/plain": [
       "Training Epoch 0:   0%|          | 0/430 [00:00<?, ?it/s]"
      ]
     },
     "metadata": {},
     "output_type": "display_data"
    },
    {
     "name": "stderr",
     "output_type": "stream",
     "text": [
      "C:\\Users\\Jack\\AppData\\Local\\Programs\\Python\\Python312\\Lib\\site-packages\\torch\\optim\\lr_scheduler.py:143: UserWarning: Detected call of `lr_scheduler.step()` before `optimizer.step()`. In PyTorch 1.1.0 and later, you should call them in the opposite order: `optimizer.step()` before `lr_scheduler.step()`.  Failure to do this will result in PyTorch skipping the first value of the learning rate schedule. See more details at https://pytorch.org/docs/stable/optim.html#how-to-adjust-learning-rate\n",
      "  warnings.warn(\"Detected call of `lr_scheduler.step()` before `optimizer.step()`. \"\n"
     ]
    },
    {
     "data": {
      "application/vnd.jupyter.widget-view+json": {
       "model_id": "4f95288a492143df8eaa21b70fe03b98",
       "version_major": 2,
       "version_minor": 0
      },
      "text/plain": [
       "Validating Epoch 0:   0%|          | 0/40 [00:00<?, ?it/s]"
      ]
     },
     "metadata": {},
     "output_type": "display_data"
    },
    {
     "name": "stdout",
     "output_type": "stream",
     "text": [
      "Training Loss: 0.38002869486808777, Training Accuracy: 86.14, Validation Loss: 0.27231594920158386, Validation Accuracy: 89.72\n",
      "Model parameters saved to vgg11_mnist.pth\n"
     ]
    },
    {
     "data": {
      "application/vnd.jupyter.widget-view+json": {
       "model_id": "d5602c0532dd4640812998f763c6750c",
       "version_major": 2,
       "version_minor": 0
      },
      "text/plain": [
       "Training Epoch 1:   0%|          | 0/430 [00:00<?, ?it/s]"
      ]
     },
     "metadata": {},
     "output_type": "display_data"
    },
    {
     "data": {
      "application/vnd.jupyter.widget-view+json": {
       "model_id": "5ba454448fca464990380a8161856932",
       "version_major": 2,
       "version_minor": 0
      },
      "text/plain": [
       "Validating Epoch 1:   0%|          | 0/40 [00:00<?, ?it/s]"
      ]
     },
     "metadata": {},
     "output_type": "display_data"
    },
    {
     "name": "stdout",
     "output_type": "stream",
     "text": [
      "Training Loss: 0.2692820429801941, Training Accuracy: 90.17090909090909, Validation Loss: 0.26930874586105347, Validation Accuracy: 90.2\n",
      "Model parameters saved to vgg11_mnist.pth\n"
     ]
    },
    {
     "data": {
      "application/vnd.jupyter.widget-view+json": {
       "model_id": "67d1ffec1b97455682777e22e853c54e",
       "version_major": 2,
       "version_minor": 0
      },
      "text/plain": [
       "Training Epoch 2:   0%|          | 0/430 [00:00<?, ?it/s]"
      ]
     },
     "metadata": {},
     "output_type": "display_data"
    },
    {
     "data": {
      "application/vnd.jupyter.widget-view+json": {
       "model_id": "3c57a75e1dbf40b58be05e2536a5e186",
       "version_major": 2,
       "version_minor": 0
      },
      "text/plain": [
       "Validating Epoch 2:   0%|          | 0/40 [00:00<?, ?it/s]"
      ]
     },
     "metadata": {},
     "output_type": "display_data"
    },
    {
     "name": "stdout",
     "output_type": "stream",
     "text": [
      "Training Loss: 0.23586861789226532, Training Accuracy: 91.39818181818183, Validation Loss: 0.2377403974533081, Validation Accuracy: 91.7\n",
      "Model parameters saved to vgg11_mnist.pth\n"
     ]
    },
    {
     "data": {
      "application/vnd.jupyter.widget-view+json": {
       "model_id": "3bc5ac7653ac4b04961bdf59e8bcb2c3",
       "version_major": 2,
       "version_minor": 0
      },
      "text/plain": [
       "Training Epoch 3:   0%|          | 0/430 [00:00<?, ?it/s]"
      ]
     },
     "metadata": {},
     "output_type": "display_data"
    },
    {
     "data": {
      "application/vnd.jupyter.widget-view+json": {
       "model_id": "b4910d12546046fd8543786fd2fb6236",
       "version_major": 2,
       "version_minor": 0
      },
      "text/plain": [
       "Validating Epoch 3:   0%|          | 0/40 [00:00<?, ?it/s]"
      ]
     },
     "metadata": {},
     "output_type": "display_data"
    },
    {
     "name": "stdout",
     "output_type": "stream",
     "text": [
      "Training Loss: 0.2122490257024765, Training Accuracy: 92.44727272727272, Validation Loss: 0.22661469876766205, Validation Accuracy: 91.66\n",
      "Model parameters saved to vgg11_mnist.pth\n"
     ]
    },
    {
     "data": {
      "application/vnd.jupyter.widget-view+json": {
       "model_id": "54de3556879a4775a24c101653f4cf93",
       "version_major": 2,
       "version_minor": 0
      },
      "text/plain": [
       "Training Epoch 4:   0%|          | 0/430 [00:00<?, ?it/s]"
      ]
     },
     "metadata": {},
     "output_type": "display_data"
    },
    {
     "data": {
      "application/vnd.jupyter.widget-view+json": {
       "model_id": "c1d769aa60994cb69e63772387314355",
       "version_major": 2,
       "version_minor": 0
      },
      "text/plain": [
       "Validating Epoch 4:   0%|          | 0/40 [00:00<?, ?it/s]"
      ]
     },
     "metadata": {},
     "output_type": "display_data"
    },
    {
     "name": "stdout",
     "output_type": "stream",
     "text": [
      "Training Loss: 0.17770709097385406, Training Accuracy: 93.63090909090909, Validation Loss: 0.16929976642131805, Validation Accuracy: 94.14\n",
      "Model parameters saved to vgg11_mnist.pth\n"
     ]
    },
    {
     "data": {
      "application/vnd.jupyter.widget-view+json": {
       "model_id": "c2383294e8a14503a0a425fd5844ed28",
       "version_major": 2,
       "version_minor": 0
      },
      "text/plain": [
       "Training Epoch 5:   0%|          | 0/430 [00:00<?, ?it/s]"
      ]
     },
     "metadata": {},
     "output_type": "display_data"
    },
    {
     "data": {
      "application/vnd.jupyter.widget-view+json": {
       "model_id": "b3f9df175dc3409a9f14108967b9c051",
       "version_major": 2,
       "version_minor": 0
      },
      "text/plain": [
       "Validating Epoch 5:   0%|          | 0/40 [00:00<?, ?it/s]"
      ]
     },
     "metadata": {},
     "output_type": "display_data"
    },
    {
     "name": "stdout",
     "output_type": "stream",
     "text": [
      "Training Loss: 0.1454305648803711, Training Accuracy: 94.64545454545454, Validation Loss: 0.19219909608364105, Validation Accuracy: 93.58\n",
      "Model parameters saved to vgg11_mnist.pth\n"
     ]
    },
    {
     "data": {
      "application/vnd.jupyter.widget-view+json": {
       "model_id": "ed97d29900dd43ce8ba9d75e24b0cd65",
       "version_major": 2,
       "version_minor": 0
      },
      "text/plain": [
       "Training Epoch 6:   0%|          | 0/430 [00:00<?, ?it/s]"
      ]
     },
     "metadata": {},
     "output_type": "display_data"
    },
    {
     "data": {
      "application/vnd.jupyter.widget-view+json": {
       "model_id": "fca8b7f015b84220bf0ceecdbf326d7e",
       "version_major": 2,
       "version_minor": 0
      },
      "text/plain": [
       "Validating Epoch 6:   0%|          | 0/40 [00:00<?, ?it/s]"
      ]
     },
     "metadata": {},
     "output_type": "display_data"
    },
    {
     "name": "stdout",
     "output_type": "stream",
     "text": [
      "Training Loss: 0.11389521509408951, Training Accuracy: 95.88181818181818, Validation Loss: 0.21256272494792938, Validation Accuracy: 92.88\n",
      "Model parameters saved to vgg11_mnist.pth\n"
     ]
    },
    {
     "data": {
      "application/vnd.jupyter.widget-view+json": {
       "model_id": "d0a1144709ce4ec98b2d127652fceed4",
       "version_major": 2,
       "version_minor": 0
      },
      "text/plain": [
       "Training Epoch 7:   0%|          | 0/430 [00:00<?, ?it/s]"
      ]
     },
     "metadata": {},
     "output_type": "display_data"
    },
    {
     "data": {
      "application/vnd.jupyter.widget-view+json": {
       "model_id": "d4bfb6359b7e4958833de7267be12ac6",
       "version_major": 2,
       "version_minor": 0
      },
      "text/plain": [
       "Validating Epoch 7:   0%|          | 0/40 [00:00<?, ?it/s]"
      ]
     },
     "metadata": {},
     "output_type": "display_data"
    },
    {
     "name": "stdout",
     "output_type": "stream",
     "text": [
      "Training Loss: 0.09092780947685242, Training Accuracy: 96.71636363636364, Validation Loss: 0.20715604722499847, Validation Accuracy: 93.8\n",
      "Model parameters saved to vgg11_mnist.pth\n"
     ]
    },
    {
     "data": {
      "application/vnd.jupyter.widget-view+json": {
       "model_id": "95c318003da049f09c1b3bdaa11ae527",
       "version_major": 2,
       "version_minor": 0
      },
      "text/plain": [
       "Training Epoch 8:   0%|          | 0/430 [00:00<?, ?it/s]"
      ]
     },
     "metadata": {},
     "output_type": "display_data"
    },
    {
     "data": {
      "application/vnd.jupyter.widget-view+json": {
       "model_id": "6416c615885c4c2d9e7e54e8142fde2c",
       "version_major": 2,
       "version_minor": 0
      },
      "text/plain": [
       "Validating Epoch 8:   0%|          | 0/40 [00:00<?, ?it/s]"
      ]
     },
     "metadata": {},
     "output_type": "display_data"
    },
    {
     "name": "stdout",
     "output_type": "stream",
     "text": [
      "Training Loss: 0.061614759266376495, Training Accuracy: 97.82545454545455, Validation Loss: 0.19262725114822388, Validation Accuracy: 94.34\n",
      "Model parameters saved to vgg11_mnist.pth\n"
     ]
    },
    {
     "data": {
      "application/vnd.jupyter.widget-view+json": {
       "model_id": "a684e7f7de2a499380864064e2b7c154",
       "version_major": 2,
       "version_minor": 0
      },
      "text/plain": [
       "Training Epoch 9:   0%|          | 0/430 [00:00<?, ?it/s]"
      ]
     },
     "metadata": {},
     "output_type": "display_data"
    },
    {
     "data": {
      "application/vnd.jupyter.widget-view+json": {
       "model_id": "0052d9f2dd7e4e36bd85a1504695fd6a",
       "version_major": 2,
       "version_minor": 0
      },
      "text/plain": [
       "Validating Epoch 9:   0%|          | 0/40 [00:00<?, ?it/s]"
      ]
     },
     "metadata": {},
     "output_type": "display_data"
    },
    {
     "name": "stdout",
     "output_type": "stream",
     "text": [
      "Training Loss: 0.042125776410102844, Training Accuracy: 98.52, Validation Loss: 0.20249848067760468, Validation Accuracy: 94.64\n",
      "Model parameters saved to vgg11_mnist.pth\n"
     ]
    },
    {
     "data": {
      "application/vnd.jupyter.widget-view+json": {
       "model_id": "5508cce72c4d4ba1a3db01cf5f6e6dcc",
       "version_major": 2,
       "version_minor": 0
      },
      "text/plain": [
       "Training Epoch 10:   0%|          | 0/430 [00:00<?, ?it/s]"
      ]
     },
     "metadata": {},
     "output_type": "display_data"
    },
    {
     "data": {
      "application/vnd.jupyter.widget-view+json": {
       "model_id": "7bb08dbd9f814dd197e505309f540dcd",
       "version_major": 2,
       "version_minor": 0
      },
      "text/plain": [
       "Validating Epoch 10:   0%|          | 0/40 [00:00<?, ?it/s]"
      ]
     },
     "metadata": {},
     "output_type": "display_data"
    },
    {
     "name": "stdout",
     "output_type": "stream",
     "text": [
      "Training Loss: 0.021328730508685112, Training Accuracy: 99.20545454545454, Validation Loss: 0.23430052399635315, Validation Accuracy: 94.62\n",
      "Model parameters saved to vgg11_mnist.pth\n"
     ]
    },
    {
     "data": {
      "application/vnd.jupyter.widget-view+json": {
       "model_id": "cd0bbe8e516942d1be69a917d1bc97d7",
       "version_major": 2,
       "version_minor": 0
      },
      "text/plain": [
       "Training Epoch 11:   0%|          | 0/430 [00:00<?, ?it/s]"
      ]
     },
     "metadata": {},
     "output_type": "display_data"
    },
    {
     "data": {
      "application/vnd.jupyter.widget-view+json": {
       "model_id": "5d10374234274539a0412b177de2ed42",
       "version_major": 2,
       "version_minor": 0
      },
      "text/plain": [
       "Validating Epoch 11:   0%|          | 0/40 [00:00<?, ?it/s]"
      ]
     },
     "metadata": {},
     "output_type": "display_data"
    },
    {
     "name": "stdout",
     "output_type": "stream",
     "text": [
      "Training Loss: 0.007789940107613802, Training Accuracy: 99.74545454545455, Validation Loss: 0.24087531864643097, Validation Accuracy: 95.06\n",
      "Model parameters saved to vgg11_mnist.pth\n"
     ]
    },
    {
     "data": {
      "application/vnd.jupyter.widget-view+json": {
       "model_id": "12e044dc42534c4d9945b8dd3e37fe9f",
       "version_major": 2,
       "version_minor": 0
      },
      "text/plain": [
       "Training Epoch 12:   0%|          | 0/430 [00:00<?, ?it/s]"
      ]
     },
     "metadata": {},
     "output_type": "display_data"
    },
    {
     "data": {
      "application/vnd.jupyter.widget-view+json": {
       "model_id": "d0ad76a38015459098249d1b9e443643",
       "version_major": 2,
       "version_minor": 0
      },
      "text/plain": [
       "Validating Epoch 12:   0%|          | 0/40 [00:00<?, ?it/s]"
      ]
     },
     "metadata": {},
     "output_type": "display_data"
    },
    {
     "name": "stdout",
     "output_type": "stream",
     "text": [
      "Training Loss: 0.0031383633613586426, Training Accuracy: 99.91636363636364, Validation Loss: 0.24658949673175812, Validation Accuracy: 95.16\n",
      "Model parameters saved to vgg11_mnist.pth\n"
     ]
    },
    {
     "data": {
      "application/vnd.jupyter.widget-view+json": {
       "model_id": "c42b00eac27e4c2cbdee4e2737f47058",
       "version_major": 2,
       "version_minor": 0
      },
      "text/plain": [
       "Training Epoch 13:   0%|          | 0/430 [00:00<?, ?it/s]"
      ]
     },
     "metadata": {},
     "output_type": "display_data"
    },
    {
     "data": {
      "application/vnd.jupyter.widget-view+json": {
       "model_id": "9dbe48b5d8a64c839c1b627c4fa55545",
       "version_major": 2,
       "version_minor": 0
      },
      "text/plain": [
       "Validating Epoch 13:   0%|          | 0/40 [00:00<?, ?it/s]"
      ]
     },
     "metadata": {},
     "output_type": "display_data"
    },
    {
     "name": "stdout",
     "output_type": "stream",
     "text": [
      "Training Loss: 0.00125404994469136, Training Accuracy: 99.97818181818182, Validation Loss: 0.24736976623535156, Validation Accuracy: 95.28\n",
      "Model parameters saved to vgg11_mnist.pth\n"
     ]
    },
    {
     "data": {
      "application/vnd.jupyter.widget-view+json": {
       "model_id": "c28eed7296924ef3996f3dce0e3d5897",
       "version_major": 2,
       "version_minor": 0
      },
      "text/plain": [
       "Training Epoch 14:   0%|          | 0/430 [00:00<?, ?it/s]"
      ]
     },
     "metadata": {},
     "output_type": "display_data"
    },
    {
     "data": {
      "application/vnd.jupyter.widget-view+json": {
       "model_id": "53bbbcad55874eda9020373898afeb8c",
       "version_major": 2,
       "version_minor": 0
      },
      "text/plain": [
       "Validating Epoch 14:   0%|          | 0/40 [00:00<?, ?it/s]"
      ]
     },
     "metadata": {},
     "output_type": "display_data"
    },
    {
     "name": "stdout",
     "output_type": "stream",
     "text": [
      "Training Loss: 0.0010372466640546918, Training Accuracy: 99.97818181818182, Validation Loss: 0.25207948684692383, Validation Accuracy: 95.22\n",
      "Model parameters saved to vgg11_mnist.pth\n"
     ]
    }
   ],
   "source": [
    "print(f\"CUDA Available: {torch.cuda.is_available()}\")\n",
    "model = VGG11().to('cuda')\n",
    "model.train_model(training_loader, validation_loader, 15)\n",
    "\n"
   ]
  },
  {
   "cell_type": "code",
   "execution_count": 7,
   "metadata": {
    "colab": {
     "base_uri": "https://localhost:8080/",
     "height": 222
    },
    "id": "FWUFGM0wye2v",
    "outputId": "4be2fd86-5499-4293-b21a-43bada2ee191"
   },
   "outputs": [
    {
     "data": {
      "application/vnd.jupyter.widget-view+json": {
       "model_id": "8e380d0445bd40fbb9b2fcebe4aa0ddd",
       "version_major": 2,
       "version_minor": 0
      },
      "text/plain": [
       "Testing Preformance :   0%|          | 0/79 [00:00<?, ?it/s]"
      ]
     },
     "metadata": {},
     "output_type": "display_data"
    },
    {
     "name": "stdout",
     "output_type": "stream",
     "text": [
      "Training Loss: 0.28056347370147705, Training Accuracy: 94.46\n"
     ]
    }
   ],
   "source": [
    "#model.load_model(\"vgg11_mnist.pth\")\n",
    "test_loss, test_accuracy = model.test_model(testing_loader, \"Testing Preformance \")\n",
    "print(f\"Training Loss: {test_loss}, Training Accuracy: {test_accuracy}\")\n",
    "\n",
    "\n"
   ]
  },
  {
   "cell_type": "code",
   "execution_count": null,
   "metadata": {
    "id": "JGpnZaD70m-0"
   },
   "outputs": [],
   "source": []
  }
 ],
 "metadata": {
  "accelerator": "GPU",
  "colab": {
   "gpuType": "T4",
   "provenance": []
  },
  "kernelspec": {
   "display_name": "Python 3 (ipykernel)",
   "language": "python",
   "name": "python3"
  },
  "language_info": {
   "codemirror_mode": {
    "name": "ipython",
    "version": 3
   },
   "file_extension": ".py",
   "mimetype": "text/x-python",
   "name": "python",
   "nbconvert_exporter": "python",
   "pygments_lexer": "ipython3",
   "version": "3.12.3"
  },
  "widgets": {
   "application/vnd.jupyter.widget-state+json": {
    "0638192a2660490aa5f0c386cf9f2a44": {
     "model_module": "@jupyter-widgets/controls",
     "model_module_version": "1.5.0",
     "model_name": "DescriptionStyleModel",
     "state": {
      "_model_module": "@jupyter-widgets/controls",
      "_model_module_version": "1.5.0",
      "_model_name": "DescriptionStyleModel",
      "_view_count": null,
      "_view_module": "@jupyter-widgets/base",
      "_view_module_version": "1.2.0",
      "_view_name": "StyleView",
      "description_width": ""
     }
    },
    "1129c074a7bd47579d3875bedcb41970": {
     "model_module": "@jupyter-widgets/controls",
     "model_module_version": "1.5.0",
     "model_name": "DescriptionStyleModel",
     "state": {
      "_model_module": "@jupyter-widgets/controls",
      "_model_module_version": "1.5.0",
      "_model_name": "DescriptionStyleModel",
      "_view_count": null,
      "_view_module": "@jupyter-widgets/base",
      "_view_module_version": "1.2.0",
      "_view_name": "StyleView",
      "description_width": ""
     }
    },
    "17bdaf3ee35c4a0bb66b5ea970527ec8": {
     "model_module": "@jupyter-widgets/controls",
     "model_module_version": "1.5.0",
     "model_name": "HBoxModel",
     "state": {
      "_dom_classes": [],
      "_model_module": "@jupyter-widgets/controls",
      "_model_module_version": "1.5.0",
      "_model_name": "HBoxModel",
      "_view_count": null,
      "_view_module": "@jupyter-widgets/controls",
      "_view_module_version": "1.5.0",
      "_view_name": "HBoxView",
      "box_style": "",
      "children": [
       "IPY_MODEL_86bd1e632e924d398d20c615e23e79ee",
       "IPY_MODEL_9d0aaea084a34201b23e1cd164a3922f",
       "IPY_MODEL_883ce754e62d4b769ebf8bd26b8b0a62"
      ],
      "layout": "IPY_MODEL_3dcc481ca01f4753b080a9332a6a1c15"
     }
    },
    "3dcc481ca01f4753b080a9332a6a1c15": {
     "model_module": "@jupyter-widgets/base",
     "model_module_version": "1.2.0",
     "model_name": "LayoutModel",
     "state": {
      "_model_module": "@jupyter-widgets/base",
      "_model_module_version": "1.2.0",
      "_model_name": "LayoutModel",
      "_view_count": null,
      "_view_module": "@jupyter-widgets/base",
      "_view_module_version": "1.2.0",
      "_view_name": "LayoutView",
      "align_content": null,
      "align_items": null,
      "align_self": null,
      "border": null,
      "bottom": null,
      "display": null,
      "flex": null,
      "flex_flow": null,
      "grid_area": null,
      "grid_auto_columns": null,
      "grid_auto_flow": null,
      "grid_auto_rows": null,
      "grid_column": null,
      "grid_gap": null,
      "grid_row": null,
      "grid_template_areas": null,
      "grid_template_columns": null,
      "grid_template_rows": null,
      "height": null,
      "justify_content": null,
      "justify_items": null,
      "left": null,
      "margin": null,
      "max_height": null,
      "max_width": null,
      "min_height": null,
      "min_width": null,
      "object_fit": null,
      "object_position": null,
      "order": null,
      "overflow": null,
      "overflow_x": null,
      "overflow_y": null,
      "padding": null,
      "right": null,
      "top": null,
      "visibility": null,
      "width": null
     }
    },
    "85668ebb70794da68cb1a1617f1179da": {
     "model_module": "@jupyter-widgets/base",
     "model_module_version": "1.2.0",
     "model_name": "LayoutModel",
     "state": {
      "_model_module": "@jupyter-widgets/base",
      "_model_module_version": "1.2.0",
      "_model_name": "LayoutModel",
      "_view_count": null,
      "_view_module": "@jupyter-widgets/base",
      "_view_module_version": "1.2.0",
      "_view_name": "LayoutView",
      "align_content": null,
      "align_items": null,
      "align_self": null,
      "border": null,
      "bottom": null,
      "display": null,
      "flex": null,
      "flex_flow": null,
      "grid_area": null,
      "grid_auto_columns": null,
      "grid_auto_flow": null,
      "grid_auto_rows": null,
      "grid_column": null,
      "grid_gap": null,
      "grid_row": null,
      "grid_template_areas": null,
      "grid_template_columns": null,
      "grid_template_rows": null,
      "height": null,
      "justify_content": null,
      "justify_items": null,
      "left": null,
      "margin": null,
      "max_height": null,
      "max_width": null,
      "min_height": null,
      "min_width": null,
      "object_fit": null,
      "object_position": null,
      "order": null,
      "overflow": null,
      "overflow_x": null,
      "overflow_y": null,
      "padding": null,
      "right": null,
      "top": null,
      "visibility": null,
      "width": null
     }
    },
    "86bd1e632e924d398d20c615e23e79ee": {
     "model_module": "@jupyter-widgets/controls",
     "model_module_version": "1.5.0",
     "model_name": "HTMLModel",
     "state": {
      "_dom_classes": [],
      "_model_module": "@jupyter-widgets/controls",
      "_model_module_version": "1.5.0",
      "_model_name": "HTMLModel",
      "_view_count": null,
      "_view_module": "@jupyter-widgets/controls",
      "_view_module_version": "1.5.0",
      "_view_name": "HTMLView",
      "description": "",
      "description_tooltip": null,
      "layout": "IPY_MODEL_b2de5fb29f034db5ae2dd94ef7890aa9",
      "placeholder": "​",
      "style": "IPY_MODEL_0638192a2660490aa5f0c386cf9f2a44",
      "value": "Training Epoch 0:  26%"
     }
    },
    "883ce754e62d4b769ebf8bd26b8b0a62": {
     "model_module": "@jupyter-widgets/controls",
     "model_module_version": "1.5.0",
     "model_name": "HTMLModel",
     "state": {
      "_dom_classes": [],
      "_model_module": "@jupyter-widgets/controls",
      "_model_module_version": "1.5.0",
      "_model_name": "HTMLModel",
      "_view_count": null,
      "_view_module": "@jupyter-widgets/controls",
      "_view_module_version": "1.5.0",
      "_view_name": "HTMLView",
      "description": "",
      "description_tooltip": null,
      "layout": "IPY_MODEL_a80900c51652447597677f7e4f4306de",
      "placeholder": "​",
      "style": "IPY_MODEL_1129c074a7bd47579d3875bedcb41970",
      "value": " 112/430 [00:55&lt;02:34,  2.06it/s]"
     }
    },
    "9d0aaea084a34201b23e1cd164a3922f": {
     "model_module": "@jupyter-widgets/controls",
     "model_module_version": "1.5.0",
     "model_name": "FloatProgressModel",
     "state": {
      "_dom_classes": [],
      "_model_module": "@jupyter-widgets/controls",
      "_model_module_version": "1.5.0",
      "_model_name": "FloatProgressModel",
      "_view_count": null,
      "_view_module": "@jupyter-widgets/controls",
      "_view_module_version": "1.5.0",
      "_view_name": "ProgressView",
      "bar_style": "",
      "description": "",
      "description_tooltip": null,
      "layout": "IPY_MODEL_85668ebb70794da68cb1a1617f1179da",
      "max": 430,
      "min": 0,
      "orientation": "horizontal",
      "style": "IPY_MODEL_bc156c7958554442980964251449665f",
      "value": 112
     }
    },
    "a80900c51652447597677f7e4f4306de": {
     "model_module": "@jupyter-widgets/base",
     "model_module_version": "1.2.0",
     "model_name": "LayoutModel",
     "state": {
      "_model_module": "@jupyter-widgets/base",
      "_model_module_version": "1.2.0",
      "_model_name": "LayoutModel",
      "_view_count": null,
      "_view_module": "@jupyter-widgets/base",
      "_view_module_version": "1.2.0",
      "_view_name": "LayoutView",
      "align_content": null,
      "align_items": null,
      "align_self": null,
      "border": null,
      "bottom": null,
      "display": null,
      "flex": null,
      "flex_flow": null,
      "grid_area": null,
      "grid_auto_columns": null,
      "grid_auto_flow": null,
      "grid_auto_rows": null,
      "grid_column": null,
      "grid_gap": null,
      "grid_row": null,
      "grid_template_areas": null,
      "grid_template_columns": null,
      "grid_template_rows": null,
      "height": null,
      "justify_content": null,
      "justify_items": null,
      "left": null,
      "margin": null,
      "max_height": null,
      "max_width": null,
      "min_height": null,
      "min_width": null,
      "object_fit": null,
      "object_position": null,
      "order": null,
      "overflow": null,
      "overflow_x": null,
      "overflow_y": null,
      "padding": null,
      "right": null,
      "top": null,
      "visibility": null,
      "width": null
     }
    },
    "b2de5fb29f034db5ae2dd94ef7890aa9": {
     "model_module": "@jupyter-widgets/base",
     "model_module_version": "1.2.0",
     "model_name": "LayoutModel",
     "state": {
      "_model_module": "@jupyter-widgets/base",
      "_model_module_version": "1.2.0",
      "_model_name": "LayoutModel",
      "_view_count": null,
      "_view_module": "@jupyter-widgets/base",
      "_view_module_version": "1.2.0",
      "_view_name": "LayoutView",
      "align_content": null,
      "align_items": null,
      "align_self": null,
      "border": null,
      "bottom": null,
      "display": null,
      "flex": null,
      "flex_flow": null,
      "grid_area": null,
      "grid_auto_columns": null,
      "grid_auto_flow": null,
      "grid_auto_rows": null,
      "grid_column": null,
      "grid_gap": null,
      "grid_row": null,
      "grid_template_areas": null,
      "grid_template_columns": null,
      "grid_template_rows": null,
      "height": null,
      "justify_content": null,
      "justify_items": null,
      "left": null,
      "margin": null,
      "max_height": null,
      "max_width": null,
      "min_height": null,
      "min_width": null,
      "object_fit": null,
      "object_position": null,
      "order": null,
      "overflow": null,
      "overflow_x": null,
      "overflow_y": null,
      "padding": null,
      "right": null,
      "top": null,
      "visibility": null,
      "width": null
     }
    },
    "bc156c7958554442980964251449665f": {
     "model_module": "@jupyter-widgets/controls",
     "model_module_version": "1.5.0",
     "model_name": "ProgressStyleModel",
     "state": {
      "_model_module": "@jupyter-widgets/controls",
      "_model_module_version": "1.5.0",
      "_model_name": "ProgressStyleModel",
      "_view_count": null,
      "_view_module": "@jupyter-widgets/base",
      "_view_module_version": "1.2.0",
      "_view_name": "StyleView",
      "bar_color": null,
      "description_width": ""
     }
    }
   }
  }
 },
 "nbformat": 4,
 "nbformat_minor": 4
}
