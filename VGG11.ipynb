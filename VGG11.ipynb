{
 "cells": [
  {
   "cell_type": "code",
   "execution_count": 1,
   "metadata": {
    "id": "QoRvXR4Jshpf"
   },
   "outputs": [],
   "source": [
    "import torch\n",
    "import torchvision\n",
    "import torchvision.transforms as transforms\n",
    "import torch.nn as nn\n",
    "from tqdm.notebook import tqdm\n",
    "from torch.cuda.amp import autocast, GradScaler"
   ]
  },
  {
   "cell_type": "code",
   "execution_count": null,
   "metadata": {
    "id": "NXEfM-C0V5wP"
   },
   "outputs": [],
   "source": []
  },
  {
   "cell_type": "code",
   "execution_count": 2,
   "metadata": {
    "id": "vrL6NFtUskXy"
   },
   "outputs": [],
   "source": [
    "transform = transforms.Compose([transforms.Resize((224, 224)), transforms.ToTensor(), transforms.Normalize((0.5), (0.5))])\n",
    "training_set = torchvision.datasets.FashionMNIST('./data', train=True, transform=transform, download=True)\n",
    "testing_set = torchvision.datasets.FashionMNIST('./data', train=False, transform=transform, download=True)\n",
    "training_set, validation_set = torch.utils.data.random_split(training_set, [55000, 5000])\n",
    "#training_set, validation_set = torch.utils.data.random_split(training_set, [540000,60000])"
   ]
  },
  {
   "cell_type": "code",
   "execution_count": 3,
   "metadata": {
    "colab": {
     "base_uri": "https://localhost:8080/"
    },
    "id": "AqSEeVccx0aB",
    "outputId": "7e0783d2-894b-4434-c4c1-ee0a5ea9436b"
   },
   "outputs": [],
   "source": [
    "training_loader = torch.utils.data.DataLoader(training_set, batch_size=128, shuffle=True, num_workers=4,  pin_memory=True)\n",
    "validation_loader = torch.utils.data.DataLoader(validation_set, batch_size=128, shuffle=True, num_workers=4, pin_memory=True)\n",
    "testing_loader = torch.utils.data.DataLoader(testing_set, batch_size=128, shuffle=True, num_workers=4, pin_memory=True)"
   ]
  },
  {
   "cell_type": "code",
   "execution_count": null,
   "metadata": {},
   "outputs": [],
   "source": []
  },
  {
   "cell_type": "code",
   "execution_count": 4,
   "metadata": {
    "id": "H7keOucds0h6"
   },
   "outputs": [],
   "source": [
    "class VGG11(nn.Module):\n",
    "\n",
    "  def __init__(self):\n",
    "    super(VGG11, self).__init__()\n",
    "    self.layers = nn.Sequential(\n",
    "\n",
    "        nn.Conv2d(1, 64, kernel_size=3, padding=1),\n",
    "        nn.BatchNorm2d(64),\n",
    "        nn.ReLU(),\n",
    "        #nn.Dropout(0.5),\n",
    "\n",
    "        nn.MaxPool2d(2, 2),\n",
    "\n",
    "        nn.Conv2d(64, 128, kernel_size=3, padding=1),\n",
    "        nn.BatchNorm2d(128),\n",
    "        nn.ReLU(),\n",
    "        #nn.Dropout(0.5),\n",
    "\n",
    "        nn.MaxPool2d(2, 2),\n",
    "\n",
    "        nn.Conv2d(128, 256, kernel_size=3, padding=1),\n",
    "        nn.ReLU(),\n",
    "        nn.Conv2d(256, 256, kernel_size=3, padding=1),\n",
    "        nn.BatchNorm2d(256),\n",
    "        nn.ReLU(),\n",
    "        #nn.Dropout(0.5),\n",
    "\n",
    "        nn.MaxPool2d(2, 2),\n",
    "\n",
    "        nn.Conv2d(256, 512, kernel_size=3, padding=1),\n",
    "        nn.ReLU(),\n",
    "        nn.Conv2d(512, 512, kernel_size=3, padding=1),\n",
    "        nn.BatchNorm2d(512),\n",
    "        nn.ReLU(),\n",
    "        #nn.Dropout(0.5),\n",
    "\n",
    "        nn.MaxPool2d(2, 2),\n",
    "\n",
    "        nn.Conv2d(512, 512, kernel_size=3, padding=1),\n",
    "        nn.ReLU(),\n",
    "        nn.Conv2d(512, 512, kernel_size=3, padding=1),\n",
    "        nn.BatchNorm2d(512),\n",
    "        nn.ReLU(),\n",
    "        #nn.Dropout(0.5),\n",
    "\n",
    "        nn.MaxPool2d(2, 2),\n",
    "        nn.Flatten(),\n",
    "\n",
    "\n",
    "        # Classifier\n",
    "        nn.Linear(512*7*7, 4096),\n",
    "        nn.BatchNorm1d(4096),\n",
    "        nn.ReLU(),\n",
    "        nn.Dropout(0.5),\n",
    "\n",
    "        nn.Linear(4096, 4096),\n",
    "        nn.BatchNorm1d(4096),\n",
    "        nn.ReLU(),\n",
    "        nn.Dropout(0.5),\n",
    "\n",
    "        nn.Linear(4096, 10)\n",
    "\n",
    "    )\n",
    "\n",
    "\n",
    "    self.loss = nn.CrossEntropyLoss()\n",
    "    self.optimizer = torch.optim.Adam(self.parameters(), lr=0.0005)\n",
    "    self.scheduler = None\n",
    "\n",
    "  def forward(self, x):\n",
    "    return self.layers(x)\n",
    "\n",
    "  def train_model(self, training_loader, validation_loader, epoch):\n",
    "    self.scheduler = torch.optim.lr_scheduler.OneCycleLR(self.optimizer, max_lr=0.001, steps_per_epoch=len(training_loader), epochs=epoch)\n",
    "    scaler = GradScaler()\n",
    "\n",
    "    self.to('cuda')\n",
    "\n",
    "\n",
    "    training_loss = []\n",
    "    training_accuracy = []\n",
    "    validation_loss = []\n",
    "    validation_accuracy = []\n",
    "\n",
    "    for i in range(epoch):\n",
    "        true = 0\n",
    "        total = 0\n",
    "        running_loss = 0\n",
    "        for images, labels in tqdm(training_loader, desc=f\"Training Epoch {i}\"):\n",
    "            self.train()\n",
    "            images = images.to('cuda')\n",
    "            labels = labels.to('cuda')\n",
    "\n",
    "            # model training\n",
    "            self.optimizer.zero_grad()\n",
    "            with autocast():\n",
    "              pred = self.forward(images)\n",
    "              loss = self.loss(pred, labels)\n",
    "            scaler.scale(loss).backward()\n",
    "            scaler.step(self.optimizer)\n",
    "            scaler.update()\n",
    "            self.scheduler.step()\n",
    "\n",
    "            # preformance eval\n",
    "            running_loss += loss\n",
    "            pred_actual = torch.argmax(pred, dim=-1)\n",
    "            true += (pred_actual == labels).sum().item()\n",
    "            total += labels.size(0)\n",
    "\n",
    "        # training set eval\n",
    "        training_loss.append(running_loss/len(training_loader))\n",
    "        training_accuracy.append(true / total *100)\n",
    "\n",
    "        # validation set eval\n",
    "        val_loss, val_accuracy = self.test_model(validation_loader, f\"Validating Epoch {i}\")\n",
    "        validation_loss.append(val_loss)\n",
    "        validation_accuracy.append(val_accuracy)\n",
    "\n",
    "        print(f\"Training Loss: {training_loss[-1]}, Training Accuracy: {training_accuracy[-1]}, Validation Loss: {validation_loss[-1]}, Validation Accuracy: {validation_accuracy[-1]}\")\n",
    "        model.save_model(\"vgg11_mnist.pth\")\n",
    "\n",
    "    return training_loss, training_accuracy, validation_loss, validation_accuracy\n",
    "\n",
    "\n",
    "  def test_model(self, testing_loader, desc):\n",
    "      self.eval()\n",
    "      self.to('cuda')\n",
    "      true = 0\n",
    "      total= 0\n",
    "      loss = 0\n",
    "      with torch.no_grad():\n",
    "        for images, labels in tqdm(testing_loader, desc = desc):\n",
    "            images = images.to('cuda')\n",
    "            labels = labels.to('cuda')\n",
    "            pred = self.forward(images)\n",
    "            pred_actual = torch.argmax(pred, dim=-1)\n",
    "            loss += self.loss(pred, labels)\n",
    "            true += (pred_actual == labels).sum().item()\n",
    "            total += labels.size(0)\n",
    "        accuracy = true / total * 100\n",
    "        return loss/len(testing_loader), accuracy\n",
    "\n",
    "\n",
    "  def save_model(self, path):\n",
    "      torch.save(self.state_dict(), path)\n",
    "      print(f\"Model parameters saved to {path}\")\n",
    "\n",
    "  def load_model(self, path):\n",
    "      self.load_state_dict(torch.load(path))\n",
    "      self.to('cuda')\n",
    "      print(f\"Model parameters loaded from {path}\")\n",
    "\n"
   ]
  },
  {
   "cell_type": "code",
   "execution_count": 5,
   "metadata": {
    "colab": {
     "base_uri": "https://localhost:8080/",
     "height": 67,
     "referenced_widgets": [
      "17bdaf3ee35c4a0bb66b5ea970527ec8",
      "86bd1e632e924d398d20c615e23e79ee",
      "9d0aaea084a34201b23e1cd164a3922f",
      "883ce754e62d4b769ebf8bd26b8b0a62",
      "3dcc481ca01f4753b080a9332a6a1c15",
      "b2de5fb29f034db5ae2dd94ef7890aa9",
      "0638192a2660490aa5f0c386cf9f2a44",
      "85668ebb70794da68cb1a1617f1179da",
      "bc156c7958554442980964251449665f",
      "a80900c51652447597677f7e4f4306de",
      "1129c074a7bd47579d3875bedcb41970"
     ]
    },
    "id": "pPnXfy-WuNbY",
    "outputId": "18e10c21-64f7-4092-c073-a3dd0e0a89fa"
   },
   "outputs": [
    {
     "name": "stdout",
     "output_type": "stream",
     "text": [
      "CUDA Available: True\n"
     ]
    },
    {
     "data": {
      "application/vnd.jupyter.widget-view+json": {
       "model_id": "bd80903d580b4145997b0b71b9d116c8",
       "version_major": 2,
       "version_minor": 0
      },
      "text/plain": [
       "Training Epoch 0:   0%|          | 0/430 [00:00<?, ?it/s]"
      ]
     },
     "metadata": {},
     "output_type": "display_data"
    },
    {
     "name": "stderr",
     "output_type": "stream",
     "text": [
      "C:\\Users\\Jack\\AppData\\Local\\Programs\\Python\\Python312\\Lib\\site-packages\\torch\\optim\\lr_scheduler.py:143: UserWarning: Detected call of `lr_scheduler.step()` before `optimizer.step()`. In PyTorch 1.1.0 and later, you should call them in the opposite order: `optimizer.step()` before `lr_scheduler.step()`.  Failure to do this will result in PyTorch skipping the first value of the learning rate schedule. See more details at https://pytorch.org/docs/stable/optim.html#how-to-adjust-learning-rate\n",
      "  warnings.warn(\"Detected call of `lr_scheduler.step()` before `optimizer.step()`. \"\n"
     ]
    },
    {
     "data": {
      "application/vnd.jupyter.widget-view+json": {
       "model_id": "5711ab574a1248d399bcec456684225d",
       "version_major": 2,
       "version_minor": 0
      },
      "text/plain": [
       "Validating Epoch 0:   0%|          | 0/40 [00:00<?, ?it/s]"
      ]
     },
     "metadata": {},
     "output_type": "display_data"
    },
    {
     "name": "stdout",
     "output_type": "stream",
     "text": [
      "Training Loss: 0.3835175633430481, Training Accuracy: 86.0490909090909, Validation Loss: 0.30025792121887207, Validation Accuracy: 88.88000000000001\n",
      "Model parameters saved to vgg11_mnist.pth\n"
     ]
    },
    {
     "data": {
      "application/vnd.jupyter.widget-view+json": {
       "model_id": "e22ba8b7ffa74a2289b382365253a830",
       "version_major": 2,
       "version_minor": 0
      },
      "text/plain": [
       "Training Epoch 1:   0%|          | 0/430 [00:00<?, ?it/s]"
      ]
     },
     "metadata": {},
     "output_type": "display_data"
    },
    {
     "data": {
      "application/vnd.jupyter.widget-view+json": {
       "model_id": "ee3a42e0b15c494694b940ba11d76c0d",
       "version_major": 2,
       "version_minor": 0
      },
      "text/plain": [
       "Validating Epoch 1:   0%|          | 0/40 [00:00<?, ?it/s]"
      ]
     },
     "metadata": {},
     "output_type": "display_data"
    },
    {
     "name": "stdout",
     "output_type": "stream",
     "text": [
      "Training Loss: 0.280227929353714, Training Accuracy: 89.79272727272726, Validation Loss: 0.26178646087646484, Validation Accuracy: 91.0\n",
      "Model parameters saved to vgg11_mnist.pth\n"
     ]
    },
    {
     "data": {
      "application/vnd.jupyter.widget-view+json": {
       "model_id": "9dd5b843459f4208866ccf787277af2b",
       "version_major": 2,
       "version_minor": 0
      },
      "text/plain": [
       "Training Epoch 2:   0%|          | 0/430 [00:00<?, ?it/s]"
      ]
     },
     "metadata": {},
     "output_type": "display_data"
    },
    {
     "data": {
      "application/vnd.jupyter.widget-view+json": {
       "model_id": "22f149753de545b6ad9162176ebe7866",
       "version_major": 2,
       "version_minor": 0
      },
      "text/plain": [
       "Validating Epoch 2:   0%|          | 0/40 [00:00<?, ?it/s]"
      ]
     },
     "metadata": {},
     "output_type": "display_data"
    },
    {
     "name": "stdout",
     "output_type": "stream",
     "text": [
      "Training Loss: 0.24860431253910065, Training Accuracy: 91.11090909090909, Validation Loss: 0.26360368728637695, Validation Accuracy: 90.98\n",
      "Model parameters saved to vgg11_mnist.pth\n"
     ]
    },
    {
     "data": {
      "application/vnd.jupyter.widget-view+json": {
       "model_id": "852647ddc6144df489458ac91832ab49",
       "version_major": 2,
       "version_minor": 0
      },
      "text/plain": [
       "Training Epoch 3:   0%|          | 0/430 [00:00<?, ?it/s]"
      ]
     },
     "metadata": {},
     "output_type": "display_data"
    },
    {
     "data": {
      "application/vnd.jupyter.widget-view+json": {
       "model_id": "53fd6b32db7e44ed9452e87007fe787b",
       "version_major": 2,
       "version_minor": 0
      },
      "text/plain": [
       "Validating Epoch 3:   0%|          | 0/40 [00:00<?, ?it/s]"
      ]
     },
     "metadata": {},
     "output_type": "display_data"
    },
    {
     "name": "stdout",
     "output_type": "stream",
     "text": [
      "Training Loss: 0.2217949777841568, Training Accuracy: 91.90727272727273, Validation Loss: 0.2413760870695114, Validation Accuracy: 91.47999999999999\n",
      "Model parameters saved to vgg11_mnist.pth\n"
     ]
    },
    {
     "data": {
      "application/vnd.jupyter.widget-view+json": {
       "model_id": "63573e9814e145b6b8c3e637a9cd2476",
       "version_major": 2,
       "version_minor": 0
      },
      "text/plain": [
       "Training Epoch 4:   0%|          | 0/430 [00:00<?, ?it/s]"
      ]
     },
     "metadata": {},
     "output_type": "display_data"
    },
    {
     "data": {
      "application/vnd.jupyter.widget-view+json": {
       "model_id": "9e41ade0da5a4abe8590969be412c607",
       "version_major": 2,
       "version_minor": 0
      },
      "text/plain": [
       "Validating Epoch 4:   0%|          | 0/40 [00:00<?, ?it/s]"
      ]
     },
     "metadata": {},
     "output_type": "display_data"
    },
    {
     "name": "stdout",
     "output_type": "stream",
     "text": [
      "Training Loss: 0.18948614597320557, Training Accuracy: 93.11818181818182, Validation Loss: 0.200178861618042, Validation Accuracy: 93.22\n",
      "Model parameters saved to vgg11_mnist.pth\n"
     ]
    },
    {
     "data": {
      "application/vnd.jupyter.widget-view+json": {
       "model_id": "5c9c7a89e235493b8306c4b771a80176",
       "version_major": 2,
       "version_minor": 0
      },
      "text/plain": [
       "Training Epoch 5:   0%|          | 0/430 [00:00<?, ?it/s]"
      ]
     },
     "metadata": {},
     "output_type": "display_data"
    },
    {
     "data": {
      "application/vnd.jupyter.widget-view+json": {
       "model_id": "38bcd609df7f46118de3f9fb685a7310",
       "version_major": 2,
       "version_minor": 0
      },
      "text/plain": [
       "Validating Epoch 5:   0%|          | 0/40 [00:00<?, ?it/s]"
      ]
     },
     "metadata": {},
     "output_type": "display_data"
    },
    {
     "name": "stdout",
     "output_type": "stream",
     "text": [
      "Training Loss: 0.1558811068534851, Training Accuracy: 94.38181818181818, Validation Loss: 0.20459012687206268, Validation Accuracy: 93.28\n",
      "Model parameters saved to vgg11_mnist.pth\n"
     ]
    },
    {
     "data": {
      "application/vnd.jupyter.widget-view+json": {
       "model_id": "84e5c9695dd744198c1fb376b6c3856c",
       "version_major": 2,
       "version_minor": 0
      },
      "text/plain": [
       "Training Epoch 6:   0%|          | 0/430 [00:00<?, ?it/s]"
      ]
     },
     "metadata": {},
     "output_type": "display_data"
    },
    {
     "data": {
      "application/vnd.jupyter.widget-view+json": {
       "model_id": "f75f8e28a8ae4af7ac0f06ddb47f54fb",
       "version_major": 2,
       "version_minor": 0
      },
      "text/plain": [
       "Validating Epoch 6:   0%|          | 0/40 [00:00<?, ?it/s]"
      ]
     },
     "metadata": {},
     "output_type": "display_data"
    },
    {
     "name": "stdout",
     "output_type": "stream",
     "text": [
      "Training Loss: 0.12557661533355713, Training Accuracy: 95.53818181818183, Validation Loss: 0.1937645673751831, Validation Accuracy: 93.4\n",
      "Model parameters saved to vgg11_mnist.pth\n"
     ]
    },
    {
     "data": {
      "application/vnd.jupyter.widget-view+json": {
       "model_id": "7199021212df46758581fdccdb59e8a1",
       "version_major": 2,
       "version_minor": 0
      },
      "text/plain": [
       "Training Epoch 7:   0%|          | 0/430 [00:00<?, ?it/s]"
      ]
     },
     "metadata": {},
     "output_type": "display_data"
    },
    {
     "data": {
      "application/vnd.jupyter.widget-view+json": {
       "model_id": "926f102cd9b14cf58c5b613042efc3a7",
       "version_major": 2,
       "version_minor": 0
      },
      "text/plain": [
       "Validating Epoch 7:   0%|          | 0/40 [00:00<?, ?it/s]"
      ]
     },
     "metadata": {},
     "output_type": "display_data"
    },
    {
     "name": "stdout",
     "output_type": "stream",
     "text": [
      "Training Loss: 0.09937918186187744, Training Accuracy: 96.32363636363637, Validation Loss: 0.20697323977947235, Validation Accuracy: 93.78\n",
      "Model parameters saved to vgg11_mnist.pth\n"
     ]
    },
    {
     "data": {
      "application/vnd.jupyter.widget-view+json": {
       "model_id": "f299ddf76c4c422ca039ba35c732d42b",
       "version_major": 2,
       "version_minor": 0
      },
      "text/plain": [
       "Training Epoch 8:   0%|          | 0/430 [00:00<?, ?it/s]"
      ]
     },
     "metadata": {},
     "output_type": "display_data"
    },
    {
     "data": {
      "application/vnd.jupyter.widget-view+json": {
       "model_id": "7d11b7bac5cc47c693083ccfa4f3db84",
       "version_major": 2,
       "version_minor": 0
      },
      "text/plain": [
       "Validating Epoch 8:   0%|          | 0/40 [00:00<?, ?it/s]"
      ]
     },
     "metadata": {},
     "output_type": "display_data"
    },
    {
     "name": "stdout",
     "output_type": "stream",
     "text": [
      "Training Loss: 0.07166662067174911, Training Accuracy: 97.38727272727272, Validation Loss: 0.19510047137737274, Validation Accuracy: 94.06\n",
      "Model parameters saved to vgg11_mnist.pth\n"
     ]
    },
    {
     "data": {
      "application/vnd.jupyter.widget-view+json": {
       "model_id": "24d587492892488ab7b92682d892b821",
       "version_major": 2,
       "version_minor": 0
      },
      "text/plain": [
       "Training Epoch 9:   0%|          | 0/430 [00:00<?, ?it/s]"
      ]
     },
     "metadata": {},
     "output_type": "display_data"
    },
    {
     "data": {
      "application/vnd.jupyter.widget-view+json": {
       "model_id": "b3206ed977e441b9a7cfa75f19861e6b",
       "version_major": 2,
       "version_minor": 0
      },
      "text/plain": [
       "Validating Epoch 9:   0%|          | 0/40 [00:00<?, ?it/s]"
      ]
     },
     "metadata": {},
     "output_type": "display_data"
    },
    {
     "name": "stdout",
     "output_type": "stream",
     "text": [
      "Training Loss: 0.049739062786102295, Training Accuracy: 98.20909090909092, Validation Loss: 0.235219344496727, Validation Accuracy: 94.1\n",
      "Model parameters saved to vgg11_mnist.pth\n"
     ]
    },
    {
     "data": {
      "application/vnd.jupyter.widget-view+json": {
       "model_id": "efbf0e96c86d4541911b3b022638014e",
       "version_major": 2,
       "version_minor": 0
      },
      "text/plain": [
       "Training Epoch 10:   0%|          | 0/430 [00:00<?, ?it/s]"
      ]
     },
     "metadata": {},
     "output_type": "display_data"
    },
    {
     "data": {
      "application/vnd.jupyter.widget-view+json": {
       "model_id": "a5e6c8a211054dcf8004d93aacc78f76",
       "version_major": 2,
       "version_minor": 0
      },
      "text/plain": [
       "Validating Epoch 10:   0%|          | 0/40 [00:00<?, ?it/s]"
      ]
     },
     "metadata": {},
     "output_type": "display_data"
    },
    {
     "name": "stdout",
     "output_type": "stream",
     "text": [
      "Training Loss: 0.02597995288670063, Training Accuracy: 99.11272727272727, Validation Loss: 0.25616082549095154, Validation Accuracy: 94.06\n",
      "Model parameters saved to vgg11_mnist.pth\n"
     ]
    },
    {
     "data": {
      "application/vnd.jupyter.widget-view+json": {
       "model_id": "43a5602f50e7488488a43e409857ed20",
       "version_major": 2,
       "version_minor": 0
      },
      "text/plain": [
       "Training Epoch 11:   0%|          | 0/430 [00:00<?, ?it/s]"
      ]
     },
     "metadata": {},
     "output_type": "display_data"
    },
    {
     "data": {
      "application/vnd.jupyter.widget-view+json": {
       "model_id": "28e1dbbefc284d67839869bb7bc7c50b",
       "version_major": 2,
       "version_minor": 0
      },
      "text/plain": [
       "Validating Epoch 11:   0%|          | 0/40 [00:00<?, ?it/s]"
      ]
     },
     "metadata": {},
     "output_type": "display_data"
    },
    {
     "name": "stdout",
     "output_type": "stream",
     "text": [
      "Training Loss: 0.01067628338932991, Training Accuracy: 99.61636363636363, Validation Loss: 0.30405953526496887, Validation Accuracy: 94.58\n",
      "Model parameters saved to vgg11_mnist.pth\n"
     ]
    },
    {
     "data": {
      "application/vnd.jupyter.widget-view+json": {
       "model_id": "7aa98c9e6a2b4dd1b21a2d7f20e34268",
       "version_major": 2,
       "version_minor": 0
      },
      "text/plain": [
       "Training Epoch 12:   0%|          | 0/430 [00:00<?, ?it/s]"
      ]
     },
     "metadata": {},
     "output_type": "display_data"
    },
    {
     "data": {
      "application/vnd.jupyter.widget-view+json": {
       "model_id": "14ca73e0702c422785c7de33b24f419d",
       "version_major": 2,
       "version_minor": 0
      },
      "text/plain": [
       "Validating Epoch 12:   0%|          | 0/40 [00:00<?, ?it/s]"
      ]
     },
     "metadata": {},
     "output_type": "display_data"
    },
    {
     "name": "stdout",
     "output_type": "stream",
     "text": [
      "Training Loss: 0.0036358351353555918, Training Accuracy: 99.89272727272727, Validation Loss: 0.2674754858016968, Validation Accuracy: 94.84\n",
      "Model parameters saved to vgg11_mnist.pth\n"
     ]
    },
    {
     "data": {
      "application/vnd.jupyter.widget-view+json": {
       "model_id": "f4a8874a15ab4e74bc9e6e1e0783d09b",
       "version_major": 2,
       "version_minor": 0
      },
      "text/plain": [
       "Training Epoch 13:   0%|          | 0/430 [00:00<?, ?it/s]"
      ]
     },
     "metadata": {},
     "output_type": "display_data"
    },
    {
     "data": {
      "application/vnd.jupyter.widget-view+json": {
       "model_id": "94baf3fc3aac4325b46aadb8dc866e0c",
       "version_major": 2,
       "version_minor": 0
      },
      "text/plain": [
       "Validating Epoch 13:   0%|          | 0/40 [00:00<?, ?it/s]"
      ]
     },
     "metadata": {},
     "output_type": "display_data"
    },
    {
     "name": "stdout",
     "output_type": "stream",
     "text": [
      "Training Loss: 0.0019051963463425636, Training Accuracy: 99.96545454545455, Validation Loss: 0.2649652361869812, Validation Accuracy: 94.69999999999999\n",
      "Model parameters saved to vgg11_mnist.pth\n"
     ]
    },
    {
     "data": {
      "application/vnd.jupyter.widget-view+json": {
       "model_id": "11d0b6783d6e4d848763f5015886db82",
       "version_major": 2,
       "version_minor": 0
      },
      "text/plain": [
       "Training Epoch 14:   0%|          | 0/430 [00:00<?, ?it/s]"
      ]
     },
     "metadata": {},
     "output_type": "display_data"
    },
    {
     "data": {
      "application/vnd.jupyter.widget-view+json": {
       "model_id": "71acb1c3badd471e9ebe1f8f45015438",
       "version_major": 2,
       "version_minor": 0
      },
      "text/plain": [
       "Validating Epoch 14:   0%|          | 0/40 [00:00<?, ?it/s]"
      ]
     },
     "metadata": {},
     "output_type": "display_data"
    },
    {
     "name": "stdout",
     "output_type": "stream",
     "text": [
      "Training Loss: 0.001210876158438623, Training Accuracy: 99.97818181818182, Validation Loss: 0.2655385136604309, Validation Accuracy: 94.76\n",
      "Model parameters saved to vgg11_mnist.pth\n"
     ]
    },
    {
     "data": {
      "text/plain": [
       "([tensor(0.3835, device='cuda:0', grad_fn=<DivBackward0>),\n",
       "  tensor(0.2802, device='cuda:0', grad_fn=<DivBackward0>),\n",
       "  tensor(0.2486, device='cuda:0', grad_fn=<DivBackward0>),\n",
       "  tensor(0.2218, device='cuda:0', grad_fn=<DivBackward0>),\n",
       "  tensor(0.1895, device='cuda:0', grad_fn=<DivBackward0>),\n",
       "  tensor(0.1559, device='cuda:0', grad_fn=<DivBackward0>),\n",
       "  tensor(0.1256, device='cuda:0', grad_fn=<DivBackward0>),\n",
       "  tensor(0.0994, device='cuda:0', grad_fn=<DivBackward0>),\n",
       "  tensor(0.0717, device='cuda:0', grad_fn=<DivBackward0>),\n",
       "  tensor(0.0497, device='cuda:0', grad_fn=<DivBackward0>),\n",
       "  tensor(0.0260, device='cuda:0', grad_fn=<DivBackward0>),\n",
       "  tensor(0.0107, device='cuda:0', grad_fn=<DivBackward0>),\n",
       "  tensor(0.0036, device='cuda:0', grad_fn=<DivBackward0>),\n",
       "  tensor(0.0019, device='cuda:0', grad_fn=<DivBackward0>),\n",
       "  tensor(0.0012, device='cuda:0', grad_fn=<DivBackward0>)],\n",
       " [86.0490909090909,\n",
       "  89.79272727272726,\n",
       "  91.11090909090909,\n",
       "  91.90727272727273,\n",
       "  93.11818181818182,\n",
       "  94.38181818181818,\n",
       "  95.53818181818183,\n",
       "  96.32363636363637,\n",
       "  97.38727272727272,\n",
       "  98.20909090909092,\n",
       "  99.11272727272727,\n",
       "  99.61636363636363,\n",
       "  99.89272727272727,\n",
       "  99.96545454545455,\n",
       "  99.97818181818182],\n",
       " [tensor(0.3003, device='cuda:0'),\n",
       "  tensor(0.2618, device='cuda:0'),\n",
       "  tensor(0.2636, device='cuda:0'),\n",
       "  tensor(0.2414, device='cuda:0'),\n",
       "  tensor(0.2002, device='cuda:0'),\n",
       "  tensor(0.2046, device='cuda:0'),\n",
       "  tensor(0.1938, device='cuda:0'),\n",
       "  tensor(0.2070, device='cuda:0'),\n",
       "  tensor(0.1951, device='cuda:0'),\n",
       "  tensor(0.2352, device='cuda:0'),\n",
       "  tensor(0.2562, device='cuda:0'),\n",
       "  tensor(0.3041, device='cuda:0'),\n",
       "  tensor(0.2675, device='cuda:0'),\n",
       "  tensor(0.2650, device='cuda:0'),\n",
       "  tensor(0.2655, device='cuda:0')],\n",
       " [88.88000000000001,\n",
       "  91.0,\n",
       "  90.98,\n",
       "  91.47999999999999,\n",
       "  93.22,\n",
       "  93.28,\n",
       "  93.4,\n",
       "  93.78,\n",
       "  94.06,\n",
       "  94.1,\n",
       "  94.06,\n",
       "  94.58,\n",
       "  94.84,\n",
       "  94.69999999999999,\n",
       "  94.76])"
      ]
     },
     "execution_count": 5,
     "metadata": {},
     "output_type": "execute_result"
    }
   ],
   "source": [
    "print(f\"CUDA Available: {torch.cuda.is_available()}\")\n",
    "model = VGG11().to('cuda')\n",
    "model.train_model(training_loader, validation_loader, 15)\n",
    "\n"
   ]
  },
  {
   "cell_type": "code",
   "execution_count": 6,
   "metadata": {
    "colab": {
     "base_uri": "https://localhost:8080/",
     "height": 222
    },
    "id": "FWUFGM0wye2v",
    "outputId": "4be2fd86-5499-4293-b21a-43bada2ee191"
   },
   "outputs": [
    {
     "data": {
      "application/vnd.jupyter.widget-view+json": {
       "model_id": "3f4cd43b4ffa4a5380aab20abf079f63",
       "version_major": 2,
       "version_minor": 0
      },
      "text/plain": [
       "Testing Preformance :   0%|          | 0/79 [00:00<?, ?it/s]"
      ]
     },
     "metadata": {},
     "output_type": "display_data"
    },
    {
     "name": "stdout",
     "output_type": "stream",
     "text": [
      "Training Loss: 0.29456761479377747, Training Accuracy: 94.33\n"
     ]
    }
   ],
   "source": [
    "#model.load_model(\"vgg11_mnist.pth\")\n",
    "test_loss, test_accuracy = model.test_model(testing_loader, \"Testing Preformance \")\n",
    "print(f\"Training Loss: {test_loss}, Training Accuracy: {test_accuracy}\")\n",
    "\n",
    "\n"
   ]
  },
  {
   "cell_type": "code",
   "execution_count": null,
   "metadata": {
    "id": "JGpnZaD70m-0"
   },
   "outputs": [],
   "source": []
  }
 ],
 "metadata": {
  "accelerator": "GPU",
  "colab": {
   "gpuType": "T4",
   "provenance": []
  },
  "kernelspec": {
   "display_name": "Python 3 (ipykernel)",
   "language": "python",
   "name": "python3"
  },
  "language_info": {
   "codemirror_mode": {
    "name": "ipython",
    "version": 3
   },
   "file_extension": ".py",
   "mimetype": "text/x-python",
   "name": "python",
   "nbconvert_exporter": "python",
   "pygments_lexer": "ipython3",
   "version": "3.12.3"
  },
  "widgets": {
   "application/vnd.jupyter.widget-state+json": {
    "0638192a2660490aa5f0c386cf9f2a44": {
     "model_module": "@jupyter-widgets/controls",
     "model_module_version": "1.5.0",
     "model_name": "DescriptionStyleModel",
     "state": {
      "_model_module": "@jupyter-widgets/controls",
      "_model_module_version": "1.5.0",
      "_model_name": "DescriptionStyleModel",
      "_view_count": null,
      "_view_module": "@jupyter-widgets/base",
      "_view_module_version": "1.2.0",
      "_view_name": "StyleView",
      "description_width": ""
     }
    },
    "1129c074a7bd47579d3875bedcb41970": {
     "model_module": "@jupyter-widgets/controls",
     "model_module_version": "1.5.0",
     "model_name": "DescriptionStyleModel",
     "state": {
      "_model_module": "@jupyter-widgets/controls",
      "_model_module_version": "1.5.0",
      "_model_name": "DescriptionStyleModel",
      "_view_count": null,
      "_view_module": "@jupyter-widgets/base",
      "_view_module_version": "1.2.0",
      "_view_name": "StyleView",
      "description_width": ""
     }
    },
    "17bdaf3ee35c4a0bb66b5ea970527ec8": {
     "model_module": "@jupyter-widgets/controls",
     "model_module_version": "1.5.0",
     "model_name": "HBoxModel",
     "state": {
      "_dom_classes": [],
      "_model_module": "@jupyter-widgets/controls",
      "_model_module_version": "1.5.0",
      "_model_name": "HBoxModel",
      "_view_count": null,
      "_view_module": "@jupyter-widgets/controls",
      "_view_module_version": "1.5.0",
      "_view_name": "HBoxView",
      "box_style": "",
      "children": [
       "IPY_MODEL_86bd1e632e924d398d20c615e23e79ee",
       "IPY_MODEL_9d0aaea084a34201b23e1cd164a3922f",
       "IPY_MODEL_883ce754e62d4b769ebf8bd26b8b0a62"
      ],
      "layout": "IPY_MODEL_3dcc481ca01f4753b080a9332a6a1c15"
     }
    },
    "3dcc481ca01f4753b080a9332a6a1c15": {
     "model_module": "@jupyter-widgets/base",
     "model_module_version": "1.2.0",
     "model_name": "LayoutModel",
     "state": {
      "_model_module": "@jupyter-widgets/base",
      "_model_module_version": "1.2.0",
      "_model_name": "LayoutModel",
      "_view_count": null,
      "_view_module": "@jupyter-widgets/base",
      "_view_module_version": "1.2.0",
      "_view_name": "LayoutView",
      "align_content": null,
      "align_items": null,
      "align_self": null,
      "border": null,
      "bottom": null,
      "display": null,
      "flex": null,
      "flex_flow": null,
      "grid_area": null,
      "grid_auto_columns": null,
      "grid_auto_flow": null,
      "grid_auto_rows": null,
      "grid_column": null,
      "grid_gap": null,
      "grid_row": null,
      "grid_template_areas": null,
      "grid_template_columns": null,
      "grid_template_rows": null,
      "height": null,
      "justify_content": null,
      "justify_items": null,
      "left": null,
      "margin": null,
      "max_height": null,
      "max_width": null,
      "min_height": null,
      "min_width": null,
      "object_fit": null,
      "object_position": null,
      "order": null,
      "overflow": null,
      "overflow_x": null,
      "overflow_y": null,
      "padding": null,
      "right": null,
      "top": null,
      "visibility": null,
      "width": null
     }
    },
    "85668ebb70794da68cb1a1617f1179da": {
     "model_module": "@jupyter-widgets/base",
     "model_module_version": "1.2.0",
     "model_name": "LayoutModel",
     "state": {
      "_model_module": "@jupyter-widgets/base",
      "_model_module_version": "1.2.0",
      "_model_name": "LayoutModel",
      "_view_count": null,
      "_view_module": "@jupyter-widgets/base",
      "_view_module_version": "1.2.0",
      "_view_name": "LayoutView",
      "align_content": null,
      "align_items": null,
      "align_self": null,
      "border": null,
      "bottom": null,
      "display": null,
      "flex": null,
      "flex_flow": null,
      "grid_area": null,
      "grid_auto_columns": null,
      "grid_auto_flow": null,
      "grid_auto_rows": null,
      "grid_column": null,
      "grid_gap": null,
      "grid_row": null,
      "grid_template_areas": null,
      "grid_template_columns": null,
      "grid_template_rows": null,
      "height": null,
      "justify_content": null,
      "justify_items": null,
      "left": null,
      "margin": null,
      "max_height": null,
      "max_width": null,
      "min_height": null,
      "min_width": null,
      "object_fit": null,
      "object_position": null,
      "order": null,
      "overflow": null,
      "overflow_x": null,
      "overflow_y": null,
      "padding": null,
      "right": null,
      "top": null,
      "visibility": null,
      "width": null
     }
    },
    "86bd1e632e924d398d20c615e23e79ee": {
     "model_module": "@jupyter-widgets/controls",
     "model_module_version": "1.5.0",
     "model_name": "HTMLModel",
     "state": {
      "_dom_classes": [],
      "_model_module": "@jupyter-widgets/controls",
      "_model_module_version": "1.5.0",
      "_model_name": "HTMLModel",
      "_view_count": null,
      "_view_module": "@jupyter-widgets/controls",
      "_view_module_version": "1.5.0",
      "_view_name": "HTMLView",
      "description": "",
      "description_tooltip": null,
      "layout": "IPY_MODEL_b2de5fb29f034db5ae2dd94ef7890aa9",
      "placeholder": "​",
      "style": "IPY_MODEL_0638192a2660490aa5f0c386cf9f2a44",
      "value": "Training Epoch 0:  26%"
     }
    },
    "883ce754e62d4b769ebf8bd26b8b0a62": {
     "model_module": "@jupyter-widgets/controls",
     "model_module_version": "1.5.0",
     "model_name": "HTMLModel",
     "state": {
      "_dom_classes": [],
      "_model_module": "@jupyter-widgets/controls",
      "_model_module_version": "1.5.0",
      "_model_name": "HTMLModel",
      "_view_count": null,
      "_view_module": "@jupyter-widgets/controls",
      "_view_module_version": "1.5.0",
      "_view_name": "HTMLView",
      "description": "",
      "description_tooltip": null,
      "layout": "IPY_MODEL_a80900c51652447597677f7e4f4306de",
      "placeholder": "​",
      "style": "IPY_MODEL_1129c074a7bd47579d3875bedcb41970",
      "value": " 112/430 [00:55&lt;02:34,  2.06it/s]"
     }
    },
    "9d0aaea084a34201b23e1cd164a3922f": {
     "model_module": "@jupyter-widgets/controls",
     "model_module_version": "1.5.0",
     "model_name": "FloatProgressModel",
     "state": {
      "_dom_classes": [],
      "_model_module": "@jupyter-widgets/controls",
      "_model_module_version": "1.5.0",
      "_model_name": "FloatProgressModel",
      "_view_count": null,
      "_view_module": "@jupyter-widgets/controls",
      "_view_module_version": "1.5.0",
      "_view_name": "ProgressView",
      "bar_style": "",
      "description": "",
      "description_tooltip": null,
      "layout": "IPY_MODEL_85668ebb70794da68cb1a1617f1179da",
      "max": 430,
      "min": 0,
      "orientation": "horizontal",
      "style": "IPY_MODEL_bc156c7958554442980964251449665f",
      "value": 112
     }
    },
    "a80900c51652447597677f7e4f4306de": {
     "model_module": "@jupyter-widgets/base",
     "model_module_version": "1.2.0",
     "model_name": "LayoutModel",
     "state": {
      "_model_module": "@jupyter-widgets/base",
      "_model_module_version": "1.2.0",
      "_model_name": "LayoutModel",
      "_view_count": null,
      "_view_module": "@jupyter-widgets/base",
      "_view_module_version": "1.2.0",
      "_view_name": "LayoutView",
      "align_content": null,
      "align_items": null,
      "align_self": null,
      "border": null,
      "bottom": null,
      "display": null,
      "flex": null,
      "flex_flow": null,
      "grid_area": null,
      "grid_auto_columns": null,
      "grid_auto_flow": null,
      "grid_auto_rows": null,
      "grid_column": null,
      "grid_gap": null,
      "grid_row": null,
      "grid_template_areas": null,
      "grid_template_columns": null,
      "grid_template_rows": null,
      "height": null,
      "justify_content": null,
      "justify_items": null,
      "left": null,
      "margin": null,
      "max_height": null,
      "max_width": null,
      "min_height": null,
      "min_width": null,
      "object_fit": null,
      "object_position": null,
      "order": null,
      "overflow": null,
      "overflow_x": null,
      "overflow_y": null,
      "padding": null,
      "right": null,
      "top": null,
      "visibility": null,
      "width": null
     }
    },
    "b2de5fb29f034db5ae2dd94ef7890aa9": {
     "model_module": "@jupyter-widgets/base",
     "model_module_version": "1.2.0",
     "model_name": "LayoutModel",
     "state": {
      "_model_module": "@jupyter-widgets/base",
      "_model_module_version": "1.2.0",
      "_model_name": "LayoutModel",
      "_view_count": null,
      "_view_module": "@jupyter-widgets/base",
      "_view_module_version": "1.2.0",
      "_view_name": "LayoutView",
      "align_content": null,
      "align_items": null,
      "align_self": null,
      "border": null,
      "bottom": null,
      "display": null,
      "flex": null,
      "flex_flow": null,
      "grid_area": null,
      "grid_auto_columns": null,
      "grid_auto_flow": null,
      "grid_auto_rows": null,
      "grid_column": null,
      "grid_gap": null,
      "grid_row": null,
      "grid_template_areas": null,
      "grid_template_columns": null,
      "grid_template_rows": null,
      "height": null,
      "justify_content": null,
      "justify_items": null,
      "left": null,
      "margin": null,
      "max_height": null,
      "max_width": null,
      "min_height": null,
      "min_width": null,
      "object_fit": null,
      "object_position": null,
      "order": null,
      "overflow": null,
      "overflow_x": null,
      "overflow_y": null,
      "padding": null,
      "right": null,
      "top": null,
      "visibility": null,
      "width": null
     }
    },
    "bc156c7958554442980964251449665f": {
     "model_module": "@jupyter-widgets/controls",
     "model_module_version": "1.5.0",
     "model_name": "ProgressStyleModel",
     "state": {
      "_model_module": "@jupyter-widgets/controls",
      "_model_module_version": "1.5.0",
      "_model_name": "ProgressStyleModel",
      "_view_count": null,
      "_view_module": "@jupyter-widgets/base",
      "_view_module_version": "1.2.0",
      "_view_name": "StyleView",
      "bar_color": null,
      "description_width": ""
     }
    }
   }
  }
 },
 "nbformat": 4,
 "nbformat_minor": 4
}
