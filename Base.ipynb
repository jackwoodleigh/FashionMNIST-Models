{
  "nbformat": 4,
  "nbformat_minor": 0,
  "metadata": {
    "colab": {
      "provenance": [],
      "gpuType": "T4"
    },
    "kernelspec": {
      "name": "python3",
      "display_name": "Python 3"
    },
    "language_info": {
      "name": "python"
    },
    "accelerator": "GPU"
  },
  "cells": [
    {
      "cell_type": "code",
      "execution_count": 13,
      "metadata": {
        "id": "QoRvXR4Jshpf"
      },
      "outputs": [],
      "source": [
        "import torch\n",
        "import torchvision\n",
        "import torchvision.transforms as transforms\n",
        "import torch.nn as nn\n",
        "from tqdm import tqdm"
      ]
    },
    {
      "cell_type": "code",
      "source": [],
      "metadata": {
        "id": "NXEfM-C0V5wP"
      },
      "execution_count": 13,
      "outputs": []
    },
    {
      "cell_type": "code",
      "source": [
        "transform = transforms.Compose([transforms.ToTensor(), transforms.Normalize((0.5), (0.5))])\n",
        "training_set = torchvision.datasets.FashionMNIST('./data', train=True, transform=transform, download=True)\n",
        "testing_set = torchvision.datasets.FashionMNIST('./data', train=False, transform=transform, download=True)"
      ],
      "metadata": {
        "id": "vrL6NFtUskXy"
      },
      "execution_count": 14,
      "outputs": []
    },
    {
      "cell_type": "code",
      "source": [
        "training_loader = torch.utils.data.DataLoader(training_set, batch_size=20, shuffle=True, num_workers=2,  pin_memory=True)\n",
        "testing_loader = torch.utils.data.DataLoader(testing_set, batch_size=20, shuffle=True, num_workers=2, pin_memory=True)"
      ],
      "metadata": {
        "id": "AqSEeVccx0aB"
      },
      "execution_count": 15,
      "outputs": []
    },
    {
      "cell_type": "code",
      "source": [
        "class Model(nn.Module):\n",
        "\n",
        "  def __init__(self):\n",
        "    super(Model, self).__init__()\n",
        "    self.features = nn.Sequential(\n",
        "        nn.Conv2d(1, 16, 3),\n",
        "        nn.Dropout2d(0.2),\n",
        "        nn.ReLU(),\n",
        "\n",
        "        nn.MaxPool2d(2, 2),\n",
        "\n",
        "        nn.Conv2d(16, 32, 3),\n",
        "        nn.Dropout2d(0.2),\n",
        "        nn.ReLU(),\n",
        "\n",
        "        nn.Flatten()\n",
        "    )\n",
        "    self.classifer = nn.Sequential(\n",
        "        nn.Linear(32 * 11 * 11, 512),\n",
        "        nn.Dropout(0.2),\n",
        "        nn.ReLU(),\n",
        "\n",
        "        nn.Linear(512, 128),\n",
        "        nn.Dropout(0.2),\n",
        "        nn.ReLU(),\n",
        "\n",
        "        nn.Linear(128, 10),\n",
        "        nn.Dropout(0.2),\n",
        "        nn.ReLU(),\n",
        "\n",
        "        nn.LogSoftmax(dim=1)\n",
        "    )\n",
        "\n",
        "\n",
        "    self.loss = nn.CrossEntropyLoss()\n",
        "    self.optimizer = torch.optim.Adam(self.parameters(), lr=0.0008, betas=(0.9, 0.999))\n",
        "    self.scheduler = None\n",
        "\n",
        "  def forward(self, x):\n",
        "    x = self.features(x)\n",
        "    return self.classifer(x)\n",
        "\n",
        "  def train_model(self, training_loader, epoch):\n",
        "    self.scheduler = torch.optim.lr_scheduler.OneCycleLR(self.optimizer, max_lr=0.002, steps_per_epoch=len(training_loader), epochs=epoch)\n",
        "    self.train()\n",
        "    self.to('cuda')\n",
        "    for i in tqdm(range(epoch)):\n",
        "      running_loss=0\n",
        "      for images, labels in training_loader:\n",
        "        images = images.to('cuda')\n",
        "        labels = labels.to('cuda')\n",
        "        self.optimizer.zero_grad()\n",
        "        pred = self.forward(images)\n",
        "        loss = self.loss(pred, labels)\n",
        "        loss.backward()\n",
        "        self.optimizer.step()\n",
        "        self.scheduler.step()\n",
        "        running_loss += loss.item()\n",
        "\n",
        "\n",
        "      print(running_loss/len(training_loader))\n",
        "\n",
        "\n",
        "  def test_model(self, testing_loader):\n",
        "      self.eval()\n",
        "      self.to('cuda')\n",
        "      true = 0\n",
        "      with torch.no_grad():\n",
        "        for images, labels in testing_loader:\n",
        "          images = images.to('cuda')\n",
        "          labels = labels.to('cuda')\n",
        "          pred = self.forward(images)\n",
        "          pred_actual = torch.argmax(pred, dim=-1)\n",
        "          true += (pred_actual == labels).sum()\n",
        "        print(true)\n",
        "        print(len(testing_loader)*20)\n",
        "        print(true/(len(testing_loader)*20))\n",
        "\n"
      ],
      "metadata": {
        "id": "H7keOucds0h6"
      },
      "execution_count": 30,
      "outputs": []
    },
    {
      "cell_type": "code",
      "source": [
        "print(f\"CUDA Available: {torch.cuda.is_available()}\")\n",
        "model = Model().to('cuda')\n",
        "model.train_model(training_loader, 20)\n",
        "model.test_model(testing_loader)\n"
      ],
      "metadata": {
        "colab": {
          "base_uri": "https://localhost:8080/"
        },
        "id": "pPnXfy-WuNbY",
        "outputId": "047c0210-e3df-4194-c307-833aa85068ec"
      },
      "execution_count": 31,
      "outputs": [
        {
          "output_type": "stream",
          "name": "stdout",
          "text": [
            "CUDA Available: True\n"
          ]
        },
        {
          "output_type": "stream",
          "name": "stderr",
          "text": [
            "  5%|████▏                                                                              | 1/20 [00:10<03:14, 10.25s/it]"
          ]
        },
        {
          "output_type": "stream",
          "name": "stdout",
          "text": [
            "1.1431470801830292\n"
          ]
        },
        {
          "output_type": "stream",
          "name": "stderr",
          "text": [
            "\r 10%|████████▎                                                                          | 2/20 [00:20<03:05, 10.28s/it]"
          ]
        },
        {
          "output_type": "stream",
          "name": "stdout",
          "text": [
            "0.9165615956683953\n"
          ]
        },
        {
          "output_type": "stream",
          "name": "stderr",
          "text": [
            "\r 15%|████████████▍                                                                      | 3/20 [00:30<02:53, 10.23s/it]"
          ]
        },
        {
          "output_type": "stream",
          "name": "stdout",
          "text": [
            "0.8498649973608553\n"
          ]
        },
        {
          "output_type": "stream",
          "name": "stderr",
          "text": [
            "\r 20%|████████████████▌                                                                  | 4/20 [00:40<02:42, 10.13s/it]"
          ]
        },
        {
          "output_type": "stream",
          "name": "stdout",
          "text": [
            "0.8145694929038485\n"
          ]
        },
        {
          "output_type": "stream",
          "name": "stderr",
          "text": [
            "\r 25%|████████████████████▊                                                              | 5/20 [00:50<02:31, 10.08s/it]"
          ]
        },
        {
          "output_type": "stream",
          "name": "stdout",
          "text": [
            "0.8034978167377412\n"
          ]
        },
        {
          "output_type": "stream",
          "name": "stderr",
          "text": [
            "\r 30%|████████████████████████▉                                                          | 6/20 [01:00<02:22, 10.15s/it]"
          ]
        },
        {
          "output_type": "stream",
          "name": "stdout",
          "text": [
            "0.7783063564722736\n"
          ]
        },
        {
          "output_type": "stream",
          "name": "stderr",
          "text": [
            "\r 35%|█████████████████████████████                                                      | 7/20 [01:11<02:13, 10.26s/it]"
          ]
        },
        {
          "output_type": "stream",
          "name": "stdout",
          "text": [
            "0.7653025764810543\n"
          ]
        },
        {
          "output_type": "stream",
          "name": "stderr",
          "text": [
            "\r 40%|█████████████████████████████████▏                                                 | 8/20 [01:21<02:02, 10.25s/it]"
          ]
        },
        {
          "output_type": "stream",
          "name": "stdout",
          "text": [
            "0.749791187149783\n"
          ]
        },
        {
          "output_type": "stream",
          "name": "stderr",
          "text": [
            "\r 45%|█████████████████████████████████████▎                                             | 9/20 [01:31<01:51, 10.16s/it]"
          ]
        },
        {
          "output_type": "stream",
          "name": "stdout",
          "text": [
            "0.7332698853605737\n"
          ]
        },
        {
          "output_type": "stream",
          "name": "stderr",
          "text": [
            "\r 50%|█████████████████████████████████████████                                         | 10/20 [01:41<01:41, 10.17s/it]"
          ]
        },
        {
          "output_type": "stream",
          "name": "stdout",
          "text": [
            "0.7273037194280575\n"
          ]
        },
        {
          "output_type": "stream",
          "name": "stderr",
          "text": [
            "\r 55%|█████████████████████████████████████████████                                     | 11/20 [01:52<01:31, 10.20s/it]"
          ]
        },
        {
          "output_type": "stream",
          "name": "stdout",
          "text": [
            "0.7094876182141403\n"
          ]
        },
        {
          "output_type": "stream",
          "name": "stderr",
          "text": [
            "\r 60%|█████████████████████████████████████████████████▏                                | 12/20 [02:02<01:21, 10.20s/it]"
          ]
        },
        {
          "output_type": "stream",
          "name": "stdout",
          "text": [
            "0.6869832820088292\n"
          ]
        },
        {
          "output_type": "stream",
          "name": "stderr",
          "text": [
            "\r 65%|█████████████████████████████████████████████████████▎                            | 13/20 [02:12<01:11, 10.15s/it]"
          ]
        },
        {
          "output_type": "stream",
          "name": "stdout",
          "text": [
            "0.6655988439038241\n"
          ]
        },
        {
          "output_type": "stream",
          "name": "stderr",
          "text": [
            "\r 70%|█████████████████████████████████████████████████████████▍                        | 14/20 [02:22<01:00, 10.12s/it]"
          ]
        },
        {
          "output_type": "stream",
          "name": "stdout",
          "text": [
            "0.6420649940616762\n"
          ]
        },
        {
          "output_type": "stream",
          "name": "stderr",
          "text": [
            "\r 75%|█████████████████████████████████████████████████████████████▌                    | 15/20 [02:33<00:51, 10.27s/it]"
          ]
        },
        {
          "output_type": "stream",
          "name": "stdout",
          "text": [
            "0.6216458912550782\n"
          ]
        },
        {
          "output_type": "stream",
          "name": "stderr",
          "text": [
            "\r 80%|█████████████████████████████████████████████████████████████████▌                | 16/20 [02:43<00:41, 10.29s/it]"
          ]
        },
        {
          "output_type": "stream",
          "name": "stdout",
          "text": [
            "0.6141387601350434\n"
          ]
        },
        {
          "output_type": "stream",
          "name": "stderr",
          "text": [
            "\r 85%|█████████████████████████████████████████████████████████████████████▋            | 17/20 [02:53<00:30, 10.29s/it]"
          ]
        },
        {
          "output_type": "stream",
          "name": "stdout",
          "text": [
            "0.5996005684156747\n"
          ]
        },
        {
          "output_type": "stream",
          "name": "stderr",
          "text": [
            "\r 90%|█████████████████████████████████████████████████████████████████████████▊        | 18/20 [03:03<00:20, 10.20s/it]"
          ]
        },
        {
          "output_type": "stream",
          "name": "stdout",
          "text": [
            "0.5925025930538541\n"
          ]
        },
        {
          "output_type": "stream",
          "name": "stderr",
          "text": [
            "\r 95%|█████████████████████████████████████████████████████████████████████████████▉    | 19/20 [03:13<00:10, 10.14s/it]"
          ]
        },
        {
          "output_type": "stream",
          "name": "stdout",
          "text": [
            "0.5880601193010807\n"
          ]
        },
        {
          "output_type": "stream",
          "name": "stderr",
          "text": [
            "100%|██████████████████████████████████████████████████████████████████████████████████| 20/20 [03:23<00:00, 10.19s/it]"
          ]
        },
        {
          "output_type": "stream",
          "name": "stdout",
          "text": [
            "0.5790830375454776\n"
          ]
        },
        {
          "output_type": "stream",
          "name": "stderr",
          "text": [
            "\n"
          ]
        },
        {
          "output_type": "stream",
          "name": "stdout",
          "text": [
            "tensor(9248, device='cuda:0')\n",
            "10000\n",
            "tensor(0.9248, device='cuda:0')\n"
          ]
        }
      ]
    },
    {
      "cell_type": "code",
      "source": [],
      "metadata": {
        "id": "FWUFGM0wye2v"
      },
      "execution_count": 41,
      "outputs": []
    }
  ]
}